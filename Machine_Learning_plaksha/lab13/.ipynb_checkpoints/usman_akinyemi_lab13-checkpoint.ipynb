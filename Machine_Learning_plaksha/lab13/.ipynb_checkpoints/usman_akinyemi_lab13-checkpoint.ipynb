{
 "cells": [
  {
   "cell_type": "code",
   "execution_count": 3,
   "metadata": {},
   "outputs": [
    {
     "name": "stdout",
     "output_type": "stream",
     "text": [
      "WARNING:tensorflow:From c:\\Users\\Alli Ajagbe\\AppData\\Local\\Programs\\Python\\Python311\\Lib\\site-packages\\keras\\src\\losses.py:2976: The name tf.losses.sparse_softmax_cross_entropy is deprecated. Please use tf.compat.v1.losses.sparse_softmax_cross_entropy instead.\n",
      "\n"
     ]
    }
   ],
   "source": [
    "import tensorflow as tf\n",
    "from tensorflow import keras"
   ]
  },
  {
   "cell_type": "code",
   "execution_count": 5,
   "metadata": {},
   "outputs": [],
   "source": [
    "from keras.datasets import mnist\n",
    "from matplotlib import pyplot"
   ]
  },
  {
   "cell_type": "code",
   "execution_count": 7,
   "metadata": {},
   "outputs": [
    {
     "name": "stdout",
     "output_type": "stream",
     "text": [
      "X_train: (60000, 28, 28)\n",
      "Y_train: (60000,)\n",
      "X_test:  (10000, 28, 28)\n",
      "Y_test:  (10000,)\n"
     ]
    },
    {
     "data": {
      "image/png": "[encoded data removed]",
      "text/plain": [
       "<Figure size 640x480 with 9 Axes>"
      ]
     },
     "metadata": {},
     "output_type": "display_data"
    }
   ],
   "source": [
    "#loading\n",
    "(train_X, train_y), (test_X, test_y) = mnist.load_data()\n",
    " \n",
    "#shape of dataset\n",
    "print('X_train: ' + str(train_X.shape))\n",
    "print('Y_train: ' + str(train_y.shape))\n",
    "print('X_test:  '  + str(test_X.shape))\n",
    "print('Y_test:  '  + str(test_y.shape))\n",
    " \n",
    "#plotting\n",
    "for i in range(9):  \n",
    "    pyplot.subplot(330 + 1 + i)\n",
    "    pyplot.imshow(train_X[i], cmap=pyplot.get_cmap('gray'))\n",
    "pyplot.show()"
   ]
  },
  {
   "cell_type": "code",
   "execution_count": 15,
   "metadata": {},
   "outputs": [],
   "source": [
    "import pandas as pd\n",
    "import seaborn as sns"
   ]
  },
  {
   "cell_type": "code",
   "execution_count": 12,
   "metadata": {},
   "outputs": [],
   "source": [
    "train_X = pd.DataFrame(train_X.reshape(60000, 784))\n",
    "train_y = pd.DataFrame(train_y)\n",
    "test_X = pd.DataFrame(test_X.reshape(10000, 784))\n",
    "test_y = pd.DataFrame(test_y)"
   ]
  },
  {
   "cell_type": "code",
   "execution_count": 19,
   "metadata": {},
   "outputs": [
    {
     "data": {
      "text/plain": [
       "1    6742\n",
       "7    6265\n",
       "3    6131\n",
       "2    5958\n",
       "9    5949\n",
       "0    5923\n",
       "6    5918\n",
       "8    5851\n",
       "4    5842\n",
       "5    5421\n",
       "Name: count, dtype: int64"
      ]
     },
     "execution_count": 19,
     "metadata": {},
     "output_type": "execute_result"
    }
   ],
   "source": [
    "train_y.value_counts()"
   ]
  },
  {
   "cell_type": "markdown",
   "metadata": {},
   "source": [
    "# Performing GrayScale Normalization"
   ]
  },
  {
   "cell_type": "code",
   "execution_count": 20,
   "metadata": {},
   "outputs": [],
   "source": [
    "# grayscale normalization\n",
    "train_X = train_X / 255.0\n",
    "test_X = test_X / 255.0"
   ]
  },
  {
   "cell_type": "markdown",
   "metadata": {},
   "source": [
    "# Reshaping"
   ]
  },
  {
   "cell_type": "code",
   "execution_count": 21,
   "metadata": {},
   "outputs": [],
   "source": [
    "# reshaping to 3d matrix\n",
    "train_X = train_X.values.reshape(-1,28,28,1)\n",
    "test_X = test_X.values.reshape(-1,28,28,1)"
   ]
  },
  {
   "cell_type": "markdown",
   "metadata": {},
   "source": [
    "# Label Encoding"
   ]
  },
  {
   "cell_type": "code",
   "execution_count": 28,
   "metadata": {},
   "outputs": [],
   "source": [
    "from keras.utils import to_categorical\n",
    "train_y = to_categorical(train_y, num_classes=10)"
   ]
  },
  {
   "cell_type": "code",
   "execution_count": 29,
   "metadata": {},
   "outputs": [],
   "source": [
    "# splitting train and validation set\n",
    "from sklearn.model_selection import train_test_split\n",
    "train_X, val_X, train_y, val_y = train_test_split(train_X, train_y, test_size = 0.1, random_state=42)"
   ]
  },
  {
   "cell_type": "code",
   "execution_count": 30,
   "metadata": {},
   "outputs": [
    {
     "name": "stdout",
     "output_type": "stream",
     "text": [
      "X_train: (54000, 28, 28, 1)\n",
      "Y_train: (54000, 10)\n",
      "X_val:   (6000, 28, 28, 1)\n",
      "Y_val:   (6000, 10)\n"
     ]
    }
   ],
   "source": [
    "print('X_train: ' + str(train_X.shape))\n",
    "print('Y_train: ' + str(train_y.shape))\n",
    "print('X_val:   '  + str(val_X.shape))\n",
    "print('Y_val:   '  + str(val_y.shape))"
   ]
  },
  {
   "cell_type": "code",
   "execution_count": 32,
   "metadata": {},
   "outputs": [
    {
     "data": {
      "image/png": "[encoded data removed]",
      "text/plain": [
       "<Figure size 640x480 with 1 Axes>"
      ]
     },
     "metadata": {},
     "output_type": "display_data"
    }
   ],
   "source": [
    "pyplot.imshow(train_X[2][:,:,0], cmap='gray')\n",
    "pyplot.show()"
   ]
  },
  {
   "cell_type": "markdown",
   "metadata": {},
   "source": [
    "# Building the Model with Keras"
   ]
  },
  {
   "cell_type": "code",
   "execution_count": 33,
   "metadata": {},
   "outputs": [],
   "source": [
    "from sklearn.metrics import confusion_matrix\n",
    "import itertools\n",
    "from keras.models import Sequential\n",
    "from keras.layers import Dense, Dropout, Flatten, Conv2D, MaxPool2D\n",
    "from keras.optimizers import RMSprop, Adam\n",
    "from keras.preprocessing.image import ImageDataGenerator\n",
    "from keras.callbacks import ReduceLROnPlateau"
   ]
  },
  {
   "cell_type": "code",
   "execution_count": 34,
   "metadata": {},
   "outputs": [
    {
     "name": "stdout",
     "output_type": "stream",
     "text": [
      "WARNING:tensorflow:From c:\\Users\\Alli Ajagbe\\AppData\\Local\\Programs\\Python\\Python311\\Lib\\site-packages\\keras\\src\\backend.py:873: The name tf.get_default_graph is deprecated. Please use tf.compat.v1.get_default_graph instead.\n",
      "\n"
     ]
    }
   ],
   "source": [
    "model = Sequential()"
   ]
  },
  {
   "cell_type": "code",
   "execution_count": 35,
   "metadata": {},
   "outputs": [
    {
     "name": "stdout",
     "output_type": "stream",
     "text": [
      "WARNING:tensorflow:From c:\\Users\\Alli Ajagbe\\AppData\\Local\\Programs\\Python\\Python311\\Lib\\site-packages\\keras\\src\\layers\\pooling\\max_pooling2d.py:161: The name tf.nn.max_pool is deprecated. Please use tf.nn.max_pool2d instead.\n",
      "\n"
     ]
    }
   ],
   "source": [
    "model.add(Conv2D(filters = 8, \n",
    "                 kernel_size = (5,5),\n",
    "                 padding = 'Same', \n",
    "                 activation ='relu', \n",
    "                 input_shape = (28,28,1)\n",
    "                 ))\n",
    "model.add(MaxPool2D(pool_size=(2,2)))\n",
    "model.add(Dropout(0.25))\n",
    "\n",
    "model.add(Conv2D(filters = 16,\n",
    "                 kernel_size = (3,3),\n",
    "                 padding = 'Same', \n",
    "                 activation ='relu'))\n",
    "model.add(MaxPool2D(pool_size=(2,2), strides=(2,2)))\n",
    "model.add(Dropout(0.25))\n",
    "\n",
    "model.add(Flatten())\n",
    "model.add(Dense(256, activation = \"relu\"))\n",
    "model.add(Dropout(0.25))\n",
    "model.add(Dense(10, activation = \"softmax\"))"
   ]
  },
  {
   "cell_type": "code",
   "execution_count": 37,
   "metadata": {},
   "outputs": [],
   "source": [
    "optimizer = Adam(learning_rate=0.001, beta_1=0.9, beta_2=0.999)"
   ]
  },
  {
   "cell_type": "code",
   "execution_count": 38,
   "metadata": {},
   "outputs": [],
   "source": [
    "model.compile(optimizer = optimizer , loss = \"categorical_crossentropy\", metrics=[\"accuracy\"])"
   ]
  },
  {
   "cell_type": "code",
   "execution_count": 39,
   "metadata": {},
   "outputs": [],
   "source": [
    "epochs = 10\n",
    "batch_size = 250"
   ]
  },
  {
   "cell_type": "markdown",
   "metadata": {},
   "source": [
    "# Data Augmentation"
   ]
  },
  {
   "cell_type": "code",
   "execution_count": 40,
   "metadata": {},
   "outputs": [],
   "source": [
    "datagen = ImageDataGenerator(featurewise_center=False,\n",
    "                             samplewise_center=False,\n",
    "                             featurewise_std_normalization=False,\n",
    "                             samplewise_std_normalization=False,\n",
    "                             zca_whitening=False,\n",
    "                             rotation_range=5,\n",
    "                             zoom_range = 0.1,\n",
    "                             width_shift_range=0.1,\n",
    "                             height_shift_range=0.1,\n",
    "                             horizontal_flip=False,\n",
    "                             vertical_flip=False)\n",
    "\n",
    "datagen.fit(train_X)"
   ]
  },
  {
   "cell_type": "markdown",
   "metadata": {},
   "source": [
    "# Fitting the Model"
   ]
  },
  {
   "cell_type": "code",
   "execution_count": 41,
   "metadata": {},
   "outputs": [
    {
     "name": "stderr",
     "output_type": "stream",
     "text": [
      "C:\\Users\\Alli Ajagbe\\AppData\\Local\\Temp\\ipykernel_35596\\2360771778.py:1: UserWarning: `Model.fit_generator` is deprecated and will be removed in a future version. Please use `Model.fit`, which supports generators.\n",
      "  history = model.fit_generator(datagen.flow(train_X,train_y, batch_size=batch_size),\n"
     ]
    },
    {
     "name": "stdout",
     "output_type": "stream",
     "text": [
      "Epoch 1/10\n",
      "WARNING:tensorflow:From c:\\Users\\Alli Ajagbe\\AppData\\Local\\Programs\\Python\\Python311\\Lib\\site-packages\\keras\\src\\utils\\tf_utils.py:492: The name tf.ragged.RaggedTensorValue is deprecated. Please use tf.compat.v1.ragged.RaggedTensorValue instead.\n",
      "\n"
     ]
    },
    {
     "name": "stderr",
     "output_type": "stream",
     "text": [
      "WARNING:tensorflow:From c:\\Users\\Alli Ajagbe\\AppData\\Local\\Programs\\Python\\Python311\\Lib\\site-packages\\keras\\src\\utils\\tf_utils.py:492: The name tf.ragged.RaggedTensorValue is deprecated. Please use tf.compat.v1.ragged.RaggedTensorValue instead.\n",
      "\n"
     ]
    },
    {
     "name": "stdout",
     "output_type": "stream",
     "text": [
      "WARNING:tensorflow:From c:\\Users\\Alli Ajagbe\\AppData\\Local\\Programs\\Python\\Python311\\Lib\\site-packages\\keras\\src\\engine\\base_layer_utils.py:384: The name tf.executing_eagerly_outside_functions is deprecated. Please use tf.compat.v1.executing_eagerly_outside_functions instead.\n",
      "\n"
     ]
    },
    {
     "name": "stderr",
     "output_type": "stream",
     "text": [
      "WARNING:tensorflow:From c:\\Users\\Alli Ajagbe\\AppData\\Local\\Programs\\Python\\Python311\\Lib\\site-packages\\keras\\src\\engine\\base_layer_utils.py:384: The name tf.executing_eagerly_outside_functions is deprecated. Please use tf.compat.v1.executing_eagerly_outside_functions instead.\n",
      "\n"
     ]
    },
    {
     "name": "stdout",
     "output_type": "stream",
     "text": [
      "216/216 [==============================] - 15s 66ms/step - loss: 0.8163 - accuracy: 0.7334 - val_loss: 0.1333 - val_accuracy: 0.9628\n",
      "Epoch 2/10\n",
      "216/216 [==============================] - 14s 64ms/step - loss: 0.2992 - accuracy: 0.9076 - val_loss: 0.0857 - val_accuracy: 0.9737\n",
      "Epoch 3/10\n",
      "216/216 [==============================] - 13s 61ms/step - loss: 0.2126 - accuracy: 0.9339 - val_loss: 0.0691 - val_accuracy: 0.9817\n",
      "Epoch 4/10\n",
      "216/216 [==============================] - 13s 61ms/step - loss: 0.1776 - accuracy: 0.9446 - val_loss: 0.0590 - val_accuracy: 0.9813\n",
      "Epoch 5/10\n",
      "216/216 [==============================] - 15s 68ms/step - loss: 0.1579 - accuracy: 0.9502 - val_loss: 0.0511 - val_accuracy: 0.9847\n",
      "Epoch 6/10\n",
      "216/216 [==============================] - 14s 63ms/step - loss: 0.1376 - accuracy: 0.9574 - val_loss: 0.0501 - val_accuracy: 0.9842\n",
      "Epoch 7/10\n",
      "216/216 [==============================] - 14s 66ms/step - loss: 0.1285 - accuracy: 0.9593 - val_loss: 0.0413 - val_accuracy: 0.9872\n",
      "Epoch 8/10\n",
      "216/216 [==============================] - 15s 67ms/step - loss: 0.1214 - accuracy: 0.9619 - val_loss: 0.0398 - val_accuracy: 0.9870\n",
      "Epoch 9/10\n",
      "216/216 [==============================] - 14s 65ms/step - loss: 0.1124 - accuracy: 0.9646 - val_loss: 0.0406 - val_accuracy: 0.9888\n",
      "Epoch 10/10\n",
      "216/216 [==============================] - 13s 61ms/step - loss: 0.1097 - accuracy: 0.9660 - val_loss: 0.0321 - val_accuracy: 0.9892\n"
     ]
    }
   ],
   "source": [
    "history = model.fit_generator(datagen.flow(train_X,train_y, batch_size=batch_size),\n",
    "                              epochs = epochs, validation_data = (val_X,val_y),\n",
    "                              steps_per_epoch=train_X.shape[0] // batch_size)"
   ]
  },
  {
   "cell_type": "code",
   "execution_count": 46,
   "metadata": {},
   "outputs": [
    {
     "data": {
      "image/png": "[encoded data removed]",
      "text/plain": [
       "<Figure size 640x480 with 1 Axes>"
      ]
     },
     "metadata": {},
     "output_type": "display_data"
    }
   ],
   "source": [
    "pyplot.plot(history.history['val_loss'], color='r', label='validation loss')\n",
    "pyplot.title(\"Loss\")\n",
    "pyplot.xlabel(\"Number of Epochs\")\n",
    "pyplot.ylabel(\"Loss\")\n",
    "pyplot.legend() \n",
    "pyplot.show()"
   ]
  },
  {
   "cell_type": "code",
   "execution_count": 43,
   "metadata": {},
   "outputs": [],
   "source": [
    "import numpy as np"
   ]
  },
  {
   "cell_type": "code",
   "execution_count": 45,
   "metadata": {},
   "outputs": [
    {
     "name": "stdout",
     "output_type": "stream",
     "text": [
      "188/188 [==============================] - 0s 2ms/step\n"
     ]
    },
    {
     "data": {
      "image/png": "[encoded data removed]",
      "text/plain": [
       "<Figure size 800x800 with 2 Axes>"
      ]
     },
     "metadata": {},
     "output_type": "display_data"
    }
   ],
   "source": [
    "y_pred = model.predict(val_X)   \n",
    "y_pred_classes = np.argmax(y_pred,axis = 1)\n",
    "y_true = np.argmax(val_y,axis = 1)\n",
    "cm = confusion_matrix(y_true, y_pred_classes)\n",
    "\n",
    "f,ax = pyplot.subplots(figsize=(8, 8))\n",
    "sns.heatmap(cm, annot=True, linewidths=0.01,cmap=\"Blues\", fmt= '.1f',ax=ax)\n",
    "pyplot.xlabel(\"Predicted Label\")\n",
    "pyplot.ylabel(\"True Label\")\n",
    "pyplot.title(\"Confusion Matrix\")\n",
    "pyplot.show()"
   ]
  },
  {
   "cell_type": "code",
   "execution_count": 47,
   "metadata": {},
   "outputs": [
    {
     "name": "stdout",
     "output_type": "stream",
     "text": [
      "              precision    recall  f1-score   support\n",
      "\n",
      "           0       0.99      1.00      0.99       624\n",
      "           1       0.99      1.00      0.99       654\n",
      "           2       0.99      0.99      0.99       572\n",
      "           3       0.99      0.99      0.99       589\n",
      "           4       0.98      0.99      0.99       580\n",
      "           5       0.99      0.99      0.99       551\n",
      "           6       0.99      1.00      0.99       580\n",
      "           7       0.99      0.99      0.99       633\n",
      "           8       0.99      0.98      0.99       585\n",
      "           9       0.98      0.97      0.98       632\n",
      "\n",
      "    accuracy                           0.99      6000\n",
      "   macro avg       0.99      0.99      0.99      6000\n",
      "weighted avg       0.99      0.99      0.99      6000\n",
      "\n"
     ]
    }
   ],
   "source": [
    "from sklearn.metrics import classification_report\n",
    "print(classification_report(y_true, y_pred_classes))"
   ]
  },
  {
   "cell_type": "markdown",
   "metadata": {},
   "source": [
    "# Subjective Questions"
   ]
  },
  {
   "cell_type": "markdown",
   "metadata": {},
   "source": [
    "How many layers in the deep neural network were used for features extraction? How many for features classification? "
   ]
  },
  {
   "cell_type": "markdown",
   "metadata": {},
   "source": [
    "- 2 Convo2D layers were used for features extraction, each followed by a MaxPool2D layer. \n",
    "- 1 Flatten Layer followed by 2 Dense Layers were used for features classification."
   ]
  },
  {
   "cell_type": "markdown",
   "metadata": {},
   "source": [
    "How many kernels were used to extract features on the MNIST images? What were the sizes of these kernels?"
   ]
  },
  {
   "cell_type": "markdown",
   "metadata": {},
   "source": [
    "- The first Convo2D layer used 8 kernels with a kernel size of 5x5. \n",
    "- The second Convo2D layer used 16 kernels with a kernel size of 3x3."
   ]
  },
  {
   "cell_type": "markdown",
   "metadata": {},
   "source": [
    "What kind of pooling was done on the data? What was the use of pooling? "
   ]
  },
  {
   "cell_type": "markdown",
   "metadata": {},
   "source": [
    "- Max Pooling with a pool size of 2x2 was used in both MaxPool2D layers.\n",
    "- Pooling is used to reduce the dimensionality of the data and computation in the network. It is also used to make the model more robust to slight changes in the input data (making the detection of features invariant to scale and orientation changes). Max pooling takes the maximum value from a set of values, reducing the spatial dimensions while retaining important features."
   ]
  },
  {
   "cell_type": "markdown",
   "metadata": {},
   "source": [
    "What were the dimensions of the features set for each layer of the deep CNN? Why were the dimensions reducing in each layer?"
   ]
  },
  {
   "cell_type": "markdown",
   "metadata": {},
   "source": [
    "- The dimensions of the features set for each layer of the deep CNN are as follows:\n",
    "    - With the input dimensions being 28x28x1\n",
    "    - The first Convo2D layer outputs 24x24x8\n",
    "    - The first MaxPool2D layer outputs 14x14x8\n",
    "    - The second Convo2D layer outputs 14x14x16\n",
    "    - The second MaxPool2D layer outputs 7x7x16\n",
    "    - The Flatten layer outputs 784\n",
    "    - The first Dense layer outputs 256\n",
    "    - The second Dense layer outputs 10\n",
    "- The dimensions are reducing in each layer because of the pooling layer and flattening layer. The pooling layer reduces the dimensionality of the data by taking the maximum value of a 2x2 matrix. The flattening layer flattens the data into a 1D array."
   ]
  },
  {
   "cell_type": "markdown",
   "metadata": {},
   "source": [
    "How are the outputs of CNN (which are numbers) .i.e. activation outputs of the last layer converted to probabilities and 10 classes (for the 10 digits)?"
   ]
  },
  {
   "cell_type": "markdown",
   "metadata": {},
   "source": [
    "- The activation function used in the last Dense layer is SOFTMAX. Softmax converts the raw scores (logits) into probabilities. Each output neuron represents the probability of the input image belonging to a particular class (0 to 9 in this case). The class with the highest probability is considered as the predicted class."
   ]
  }
 ],
 "metadata": {
  "kernelspec": {
   "display_name": "Python 3 (ipykernel)",
   "language": "python",
   "name": "python3"
  },
  "language_info": {
   "codemirror_mode": {
    "name": "ipython",
    "version": 3
   },
   "file_extension": ".py",
   "mimetype": "text/x-python",
   "name": "python",
   "nbconvert_exporter": "python",
   "pygments_lexer": "ipython3",
   "version": "3.11.2"
  }
 },
 "nbformat": 4,
 "nbformat_minor": 2
}
